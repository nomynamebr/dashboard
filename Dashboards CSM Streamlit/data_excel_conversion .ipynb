{
 "cells": [
  {
   "cell_type": "code",
   "execution_count": 1,
   "metadata": {},
   "outputs": [
    {
     "name": "stdout",
     "output_type": "stream",
     "text": [
      "Data successfully saved to merged_data.xlsx\n"
     ]
    }
   ],
   "source": [
    "## Convert data to a excel file \n",
    "import pandas as pd\n",
    "import glob\n",
    "import json\n",
    "import os\n",
    "\n",
    "# Path to your JSON files directory\n",
    "json_folder_path = \"/Users/wesly.alves/Library/Mobile Documents/com~apple~CloudDocs/!Pessoal/Python/json\"  # Update with your actual path\n",
    "\n",
    "json_files = glob.glob(os.path.join(json_folder_path, \"*.json\"))\n",
    "\n",
    "# Define the output Excel file name\n",
    "output_file = \"merged_data.xlsx\"\n",
    "\n",
    "# List to hold individual DataFrames for merging\n",
    "dataframes = []\n",
    "\n",
    "# Create an Excel writer object\n",
    "with pd.ExcelWriter(output_file, engine='openpyxl') as writer:\n",
    "    # Loop through each JSON file\n",
    "    for json_file in json_files:\n",
    "        with open(json_file, 'r') as file:\n",
    "            # Load JSON data\n",
    "            data = json.load(file)\n",
    "\n",
    "            # Check if the data is a dictionary (so we can use .get), otherwise use data as-is\n",
    "            if isinstance(data, dict):\n",
    "                data_to_df = data.get(\"data\", data)  # Get 'data' or full content if no 'data' key\n",
    "            else:\n",
    "                data_to_df = data  # If it's a list or other structure, use data directly\n",
    "\n",
    "            # Convert to DataFrame\n",
    "            df = pd.json_normalize(data_to_df)  # Flatten JSON if necessary\n",
    "\n",
    "            # Append to the list for merging\n",
    "            dataframes.append(df)\n",
    "\n",
    "            # Use the filename (without .json) as the sheet name\n",
    "            sheet_name = os.path.basename(json_file).replace('.json', '')\n",
    "\n",
    "            # Write the DataFrame to a separate sheet in the Excel file\n",
    "            df.to_excel(writer, sheet_name=sheet_name, index=False)\n",
    "\n",
    "    # Combine all DataFrames, using `join='outer'` to handle different columns\n",
    "    combined_df = pd.concat(dataframes, ignore_index=True, sort=False)\n",
    "\n",
    "    # Write the combined DataFrame to a new sheet\n",
    "    combined_df.to_excel(writer, sheet_name=\"All_Data_Combined\", index=False)\n",
    "\n",
    "print(f\"Data successfully saved to {output_file}\")\n"
   ]
  },
  {
   "cell_type": "code",
   "execution_count": 2,
   "metadata": {},
   "outputs": [
    {
     "name": "stdout",
     "output_type": "stream",
     "text": [
      "Epoch times converted and saved to 'data_with_human_dates.xlsx'\n"
     ]
    }
   ],
   "source": [
    "import pandas as pd\n",
    "from datetime import datetime\n",
    "import pytz\n",
    "\n",
    "# Function to convert epoch time (in milliseconds) to human-readable format with timezone awareness\n",
    "def convert_epoch_to_human(epoch_time, timezone='UTC'):\n",
    "    epoch_time_seconds = epoch_time / 1000  # Convert milliseconds to seconds\n",
    "    tz = pytz.timezone(timezone)\n",
    "    dt = datetime.fromtimestamp(epoch_time_seconds, tz=pytz.utc).astimezone(tz)\n",
    "    return dt.strftime('%m-%d-%Y') #%H:%M:%S'\n",
    "\n",
    "# Read the Excel file with all sheets\n",
    "df_sheets = pd.read_excel('merged_data.xlsx', sheet_name=None)  # 'sheet_name=None' reads all sheets into a dictionary\n",
    "\n",
    "# Specify the desired timezone for conversion\n",
    "timezone = 'UTC'  # Modify as needed, e.g., 'America/New_York'\n",
    "\n",
    "# Keywords to look for in column names\n",
    "keywords = ['created_at', 'modified_at', 'timestamp','last_scan_timestamp', 'next_scan_timestamp', 'timestamp', 'published_at']  # Add other keywords as needed\n",
    "\n",
    "# Open an Excel writer to save all processed sheets in one output file\n",
    "with pd.ExcelWriter('data_with_human_dates.xlsx', engine='openpyxl') as writer:\n",
    "    # Loop through each sheet in the Excel file\n",
    "    for sheet_name, sheet_data in df_sheets.items():\n",
    "        # Identify columns that match any keyword in the list\n",
    "        for column in sheet_data.columns:\n",
    "            if any(keyword in column.lower() for keyword in keywords):  # Check if any keyword exists in the column name\n",
    "                # Apply conversion only if the column is likely an epoch timestamp in milliseconds\n",
    "                sheet_data[column] = sheet_data[column].apply(\n",
    "                    lambda x: convert_epoch_to_human(x, timezone) if isinstance(x, (int, float)) and (x > 1000000000000) else x\n",
    "                )\n",
    "        \n",
    "        # Write the processed sheet to the Excel file\n",
    "        sheet_data.to_excel(writer, sheet_name=sheet_name, index=False)\n",
    "\n",
    "print(\"Epoch times converted and saved to 'data_with_human_dates.xlsx'\")\n"
   ]
  }
 ],
 "metadata": {
  "kernelspec": {
   "display_name": "Python 3",
   "language": "python",
   "name": "python3"
  },
  "language_info": {
   "codemirror_mode": {
    "name": "ipython",
    "version": 3
   },
   "file_extension": ".py",
   "mimetype": "text/x-python",
   "name": "python",
   "nbconvert_exporter": "python",
   "pygments_lexer": "ipython3",
   "version": "3.12.1"
  }
 },
 "nbformat": 4,
 "nbformat_minor": 2
}
